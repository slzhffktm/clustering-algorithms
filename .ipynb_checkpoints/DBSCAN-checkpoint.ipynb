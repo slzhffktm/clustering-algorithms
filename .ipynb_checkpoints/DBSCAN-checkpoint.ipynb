{
 "cells": [
  {
   "cell_type": "markdown",
   "metadata": {},
   "source": [
    "# Import"
   ]
  },
  {
   "cell_type": "code",
   "execution_count": 1,
   "metadata": {},
   "outputs": [],
   "source": [
    "import numpy as np\n",
    "\n",
    "import pandas as pd\n",
    "\n",
    "from scipy.spatial import distance\n",
    "from scipy.stats import mode\n",
    "\n",
    "import matplotlib.pyplot as plt"
   ]
  },
  {
   "cell_type": "markdown",
   "metadata": {},
   "source": [
    "# Implementation"
   ]
  },
  {
   "cell_type": "code",
   "execution_count": 2,
   "metadata": {},
   "outputs": [],
   "source": [
    "class DBSCAN(object):\n",
    "    def __init__(self, epsilon=3, min_points=3):\n",
    "        self.epsilon = epsilon\n",
    "        self.min_points = min_points\n",
    "        \n",
    "        \n",
    "    def is_cluster_in_cluster(self, idx, cluster, clusters):\n",
    "        res = []\n",
    "        for i, c in enumerate(clusters):\n",
    "            if (i==idx):\n",
    "                continue\n",
    "            if (len(np.intersect1d(cluster, c)) > 0):\n",
    "                res.append(i)\n",
    "\n",
    "        return res\n",
    "\n",
    "\n",
    "    def expand_cluster(self, neighbors_per_point, point, visited):\n",
    "        arr = np.array([])\n",
    "        for i, p in enumerate(point):\n",
    "            arr = np.union1d(arr, neighbors_per_point[p])\n",
    "            visited[point[i]] = 1\n",
    "\n",
    "        return arr\n",
    "    \n",
    "        \n",
    "    def fit(self, X):\n",
    "        X_distances = distance.cdist(X, X, 'euclidean')\n",
    "    \n",
    "        # init neighbors\n",
    "        neighbors_per_point = []\n",
    "\n",
    "        for data in X:\n",
    "            neighbors_per_point.append([])\n",
    "\n",
    "        # find neighbor in each point\n",
    "        for i, distances in enumerate(X_distances):\n",
    "            neighbors_per_point[i] = np.nonzero(distances <= self.epsilon)[0]\n",
    "\n",
    "        neighbors_per_point = np.array(neighbors_per_point)\n",
    "\n",
    "        clusters = []\n",
    "        visited = np.zeros(X.shape[0])\n",
    "\n",
    "        # creating clusters\n",
    "        for i, point in enumerate(neighbors_per_point):\n",
    "            if visited[i] == 1:\n",
    "                continue\n",
    "            if len(point) >= self.min_points:\n",
    "                visited[i] = 1\n",
    "                cluster = self.expand_cluster(neighbors_per_point, point, visited)\n",
    "                idx_another_cluster = self.is_cluster_in_cluster(i, cluster, clusters)\n",
    "                if (len(idx_another_cluster) > 0):\n",
    "                    another_cluster = np.array([])\n",
    "                    for idx in idx_another_cluster:\n",
    "                        another_cluster = np.concatenate((another_cluster, clusters[idx]), axis=None)\n",
    "                    for idx in reversed(idx_another_cluster):\n",
    "                        del clusters[idx]\n",
    "                    cluster = np.union1d(cluster, another_cluster)\n",
    "                clusters.append(cluster)\n",
    "        \n",
    "        self.clusters = clusters\n",
    "        return\n",
    "    \n",
    "    \n",
    "    def replace_labels(self, pred_labels):\n",
    "        dict_replace = {\n",
    "            -1: 2,\n",
    "            0: 0,\n",
    "            1: 1\n",
    "        }\n",
    "        pred_labels = np.array([dict_replace[label] for label in pred_labels])\n",
    "\n",
    "        return pred_labels\n",
    "        \n",
    "    \n",
    "    def fit_predict(self, X):\n",
    "        self.fit(X)\n",
    "        label = np.full((len(X)), -1)\n",
    "        for i, data in enumerate(X):\n",
    "            if (len(self.clusters) > 0):\n",
    "                for j, c in enumerate(self.clusters):\n",
    "                    if (np.any(c == i)):\n",
    "                        label[i] = j\n",
    "                        \n",
    "        self.labels = self.replace_labels(label)\n",
    "        return self.labels\n",
    "    \n",
    "    \n",
    "    def accuracy_score(self, y):\n",
    "        print('Accuracy score: {}'.format((len(y) - len(np.where(self.labels != y)[0])) / len(y)))\n",
    "        return"
   ]
  },
  {
   "cell_type": "markdown",
   "metadata": {},
   "source": [
    "# Import dataset"
   ]
  },
  {
   "cell_type": "code",
   "execution_count": 3,
   "metadata": {},
   "outputs": [],
   "source": [
    "from sklearn import datasets\n",
    "\n",
    "iris = datasets.load_iris()\n",
    "X = iris.data\n",
    "y = iris.target"
   ]
  },
  {
   "cell_type": "code",
   "execution_count": 4,
   "metadata": {},
   "outputs": [
    {
     "data": {
      "text/plain": [
       "Text(0.5, 1.0, 'Label')"
      ]
     },
     "execution_count": 4,
     "metadata": {},
     "output_type": "execute_result"
    },
    {
     "data": {
      "image/png": "[encoded data removed]",
      "text/plain": [
       "<Figure size 432x288 with 1 Axes>"
      ]
     },
     "metadata": {
      "needs_background": "light"
     },
     "output_type": "display_data"
    }
   ],
   "source": [
    "plt.scatter(X[:,0], X[:,1],c=y, cmap='Paired')\n",
    "plt.title(\"Label\")"
   ]
  },
  {
   "cell_type": "markdown",
   "metadata": {},
   "source": [
    "# Model Usage"
   ]
  },
  {
   "cell_type": "code",
   "execution_count": 6,
   "metadata": {},
   "outputs": [],
   "source": [
    "epsilon = 0.5\n",
    "min_points = 14"
   ]
  },
  {
   "cell_type": "code",
   "execution_count": 7,
   "metadata": {},
   "outputs": [],
   "source": [
    "model = DBSCAN(epsilon=epsilon, min_points=min_points)"
   ]
  },
  {
   "cell_type": "code",
   "execution_count": 8,
   "metadata": {
    "scrolled": true
   },
   "outputs": [
    {
     "data": {
      "text/plain": [
       "array([0, 0, 0, 0, 0, 0, 0, 0, 0, 0, 0, 0, 0, 0, 2, 2, 0, 0, 0, 0, 0, 0,\n",
       "       0, 0, 0, 0, 0, 0, 0, 0, 0, 0, 0, 2, 0, 0, 0, 0, 0, 0, 0, 2, 0, 0,\n",
       "       0, 0, 0, 0, 0, 0, 1, 1, 1, 1, 1, 1, 1, 2, 1, 1, 2, 1, 1, 1, 1, 1,\n",
       "       1, 1, 2, 1, 2, 1, 1, 1, 1, 1, 1, 1, 1, 1, 1, 1, 1, 1, 1, 1, 1, 2,\n",
       "       1, 1, 1, 1, 1, 2, 1, 1, 1, 1, 2, 1, 2, 2, 2, 2, 2, 2, 2, 2, 2, 2,\n",
       "       2, 1, 2, 2, 2, 2, 2, 2, 2, 1, 2, 2, 2, 1, 2, 2, 1, 1, 2, 2, 2, 2,\n",
       "       2, 1, 2, 2, 2, 2, 1, 2, 2, 2, 2, 2, 2, 2, 1, 2, 2, 1])"
      ]
     },
     "execution_count": 8,
     "metadata": {},
     "output_type": "execute_result"
    }
   ],
   "source": [
    "model.fit_predict(X)"
   ]
  },
  {
   "cell_type": "code",
   "execution_count": 9,
   "metadata": {},
   "outputs": [
    {
     "name": "stdout",
     "output_type": "stream",
     "text": [
      "Accuracy score: 0.8666666666666667\n"
     ]
    },
    {
     "data": {
      "image/png": "[encoded data removed]",
      "text/plain": [
       "<Figure size 432x288 with 1 Axes>"
      ]
     },
     "metadata": {
      "needs_background": "light"
     },
     "output_type": "display_data"
    }
   ],
   "source": [
    "y_pred = model.fit_predict(X)\n",
    "plt.scatter(X[:,0], X[:,1],c=y_pred, cmap='Paired')\n",
    "plt.title(\"DBSCAN\")\n",
    "model.accuracy_score(y)"
   ]
  },
  {
   "cell_type": "markdown",
   "metadata": {},
   "source": [
    "# Comparison with scikit-learn"
   ]
  },
  {
   "cell_type": "code",
   "execution_count": 10,
   "metadata": {},
   "outputs": [],
   "source": [
    "# replacing result, adjusting with y\n",
    "dict_replace = {\n",
    "    -1: 2,\n",
    "    0: 0,\n",
    "    1: 1\n",
    "}"
   ]
  },
  {
   "cell_type": "code",
   "execution_count": 12,
   "metadata": {},
   "outputs": [
    {
     "ename": "TypeError",
     "evalue": "fit_predict() missing 1 required positional argument: 'X'",
     "output_type": "error",
     "traceback": [
      "\u001b[1;31m---------------------------------------------------------------------------\u001b[0m",
      "\u001b[1;31mTypeError\u001b[0m                                 Traceback (most recent call last)",
      "\u001b[1;32m<ipython-input-12-8ccb257740d5>\u001b[0m in \u001b[0;36m<module>\u001b[1;34m\u001b[0m\n\u001b[0;32m      1\u001b[0m \u001b[1;32mfrom\u001b[0m \u001b[0msklearn\u001b[0m\u001b[1;33m.\u001b[0m\u001b[0mcluster\u001b[0m \u001b[1;32mimport\u001b[0m \u001b[0mDBSCAN\u001b[0m \u001b[1;32mas\u001b[0m \u001b[0msklearn_model\u001b[0m\u001b[1;33m\u001b[0m\u001b[1;33m\u001b[0m\u001b[0m\n\u001b[0;32m      2\u001b[0m \u001b[1;33m\u001b[0m\u001b[0m\n\u001b[1;32m----> 3\u001b[1;33m \u001b[0my_pred_sklearn\u001b[0m \u001b[1;33m=\u001b[0m \u001b[0msklearn_model\u001b[0m\u001b[1;33m.\u001b[0m\u001b[0mfit_predict\u001b[0m\u001b[1;33m(\u001b[0m\u001b[0mX\u001b[0m\u001b[1;33m)\u001b[0m\u001b[1;33m\u001b[0m\u001b[1;33m\u001b[0m\u001b[0m\n\u001b[0m\u001b[0;32m      4\u001b[0m \u001b[0my_pred_sklearn\u001b[0m \u001b[1;33m=\u001b[0m \u001b[1;33m[\u001b[0m\u001b[0mdict_replace\u001b[0m\u001b[1;33m[\u001b[0m\u001b[0mpred\u001b[0m\u001b[1;33m]\u001b[0m \u001b[1;32mfor\u001b[0m \u001b[0mpred\u001b[0m \u001b[1;32min\u001b[0m \u001b[0my_pred_sklearn\u001b[0m\u001b[1;33m]\u001b[0m\u001b[1;33m\u001b[0m\u001b[1;33m\u001b[0m\u001b[0m\n\u001b[0;32m      5\u001b[0m \u001b[1;31m# print(y_pred_sklearn)\u001b[0m\u001b[1;33m\u001b[0m\u001b[1;33m\u001b[0m\u001b[1;33m\u001b[0m\u001b[0m\n",
      "\u001b[1;31mTypeError\u001b[0m: fit_predict() missing 1 required positional argument: 'X'"
     ]
    }
   ],
   "source": [
    "from sklearn.cluster import DBSCAN as sklearn\n",
    "\n",
    "y_pred_sklearn = sklearn_model.fit_predict(X)\n",
    "y_pred_sklearn = [dict_replace[pred] for pred in y_pred_sklearn]\n",
    "# print(y_pred_sklearn)\n",
    "plt.scatter(X[:,0], X[:,1],c=y_pred_sklearn, cmap='Paired')\n",
    "plt.title(\"SKLearn - DBSCAN\")\n",
    "print('Accuracy score: {}'.format((len(y) - len(np.where(y_pred_sklearn != y)[0])) / len(y)))"
   ]
  },
  {
   "cell_type": "code",
   "execution_count": null,
   "metadata": {},
   "outputs": [],
   "source": []
  }
 ],
 "metadata": {
  "kernelspec": {
   "display_name": "Python 3",
   "language": "python",
   "name": "python3"
  },
  "language_info": {
   "codemirror_mode": {
    "name": "ipython",
    "version": 3
   },
   "file_extension": ".py",
   "mimetype": "text/x-python",
   "name": "python",
   "nbconvert_exporter": "python",
   "pygments_lexer": "ipython3",
   "version": "3.7.4"
  }
 },
 "nbformat": 4,
 "nbformat_minor": 2
}
